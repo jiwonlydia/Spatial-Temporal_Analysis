{
 "cells": [
  {
   "cell_type": "code",
   "execution_count": 12,
   "id": "b77b9f11",
   "metadata": {},
   "outputs": [],
   "source": [
    "import pandas as pd\n",
    "import numpy as np"
   ]
  },
  {
   "cell_type": "code",
   "execution_count": 13,
   "id": "65113ee9",
   "metadata": {
    "scrolled": true
   },
   "outputs": [
    {
     "name": "stdout",
     "output_type": "stream",
     "text": [
      "(4320, 10, 20)\n",
      "(1440, 10, 20)\n"
     ]
    }
   ],
   "source": [
    "train_dataset = np.load('./data/train_image_pop30.npy')\n",
    "test_dataset = np.load('./data/test_image_pop30.npy')\n",
    "\n",
    "print(train_dataset.shape)\n",
    "print(test_dataset.shape)"
   ]
  },
  {
   "cell_type": "markdown",
   "id": "4cd7f2c9",
   "metadata": {},
   "source": [
    "# Sampler"
   ]
  },
  {
   "cell_type": "code",
   "execution_count": 14,
   "id": "1d81a10d",
   "metadata": {},
   "outputs": [],
   "source": [
    "# def sampler(data, lag=8, step=1, temp=False):\n",
    "#     \"\"\"This function makes samples of the time series data\n",
    "#     args:\n",
    "#     - data : (# of data, height, width)\n",
    "#     - lag : the length of sampling\n",
    "#     - step : (step)-ahead forecasting label\n",
    "#     return: \n",
    "#     - data_x (# of samples, height, width, lag)\n",
    "#     - data_y (# of samples, height, width, 1)\n",
    "#     \"\"\"\n",
    "#     num_row = len(data)\n",
    "#     data_x, data_y = [], []\n",
    "#     for idx in range(num_row-lag-step):\n",
    "#         y = np.array(data[idx+lag : idx+lag+step])\n",
    "#         if not temp:\n",
    "#             x = np.transpose(data[idx : idx+lag], [1,2,0])\n",
    "#             data_x.append(x)\n",
    "#             y = np.transpose(y, [1,2,0])\n",
    "        \n",
    "#         data_y.append(y)\n",
    "\n",
    "#     print(\"Sampler Return\", np.shape(data_x), np.shape(data_y))\n",
    "                        \n",
    "#     if not temp:\n",
    "#         return np.array(data_x), np.array(data_y)\n",
    "#     else:\n",
    "#         return np.array(data_y)"
   ]
  },
  {
   "cell_type": "code",
   "execution_count": 15,
   "id": "ce56a991",
   "metadata": {
    "scrolled": true
   },
   "outputs": [],
   "source": [
    "def sampler_stamp(data, stamp, lag, step, temp=False):\n",
    "\n",
    "    num_row = len(data)\n",
    "    data_x, data_y = [], []\n",
    "    for idx in range(num_row-stamp*lag-step):\n",
    "        y = np.array(data[stamp*lag+idx : stamp*lag+idx+step])\n",
    "        if not temp:\n",
    "            x = np.transpose(data[[stamp*i+idx for i in range(lag)],:], [1,2,0])\n",
    "            data_x.append(x)\n",
    "            y = np.transpose(y, [1,2,0])\n",
    "        data_y.append(y)\n",
    "    print(\"Sampler Return\", np.shape(data_x), np.shape(data_y))\n",
    "    \n",
    "    if not temp:\n",
    "        return np.array(data_x), np.array(data_y)\n",
    "    else:\n",
    "        return np.array(data_y)"
   ]
  },
  {
   "cell_type": "markdown",
   "id": "b64e55b6",
   "metadata": {},
   "source": [
    "# Make Temporal Information"
   ]
  },
  {
   "cell_type": "code",
   "execution_count": 16,
   "id": "6a569a19",
   "metadata": {},
   "outputs": [
    {
     "name": "stdout",
     "output_type": "stream",
     "text": [
      "Train shape:  (4320, 10, 20) , Test shape:  (1440, 10, 20)\n",
      "num_row:  5760\n"
     ]
    }
   ],
   "source": [
    "print(\"Train shape: \", np.shape(train_dataset), \", Test shape: \", np.shape(test_dataset))\n",
    "\n",
    "# Setting Some Parameters \n",
    "num_train, num_test = np.shape(train_dataset)[0], np.shape(test_dataset)[0]\n",
    "num_row = num_train + num_test\n",
    "print('num_row: ', num_row)"
   ]
  },
  {
   "cell_type": "code",
   "execution_count": 17,
   "id": "a1951714",
   "metadata": {},
   "outputs": [],
   "source": [
    "### Initialize numpy array of temporal information (one-hot encoding)\n",
    "datasets_min_30 = np.zeros([num_row, 48])\n",
    "datasets_dow = np.zeros([num_row, 7])\n",
    "\n",
    "# 더미화 하기\n",
    "# 30 mins, and day-of-week index are calculated below\n",
    "for i in range(num_row):\n",
    "    idx_30 = int(int(i)%48)\n",
    "    idx_dow = int(int(i/48)%7)\n",
    "    datasets_min_30[i,idx_30] = 1\n",
    "    datasets_dow[i, idx_dow] = 1"
   ]
  },
  {
   "cell_type": "code",
   "execution_count": 18,
   "id": "4cdadc87",
   "metadata": {},
   "outputs": [],
   "source": [
    "def train_test_split(data, idx):\n",
    "    return data[:idx], data[idx:]"
   ]
  },
  {
   "cell_type": "code",
   "execution_count": 19,
   "id": "0afa38fd",
   "metadata": {},
   "outputs": [
    {
     "name": "stdout",
     "output_type": "stream",
     "text": [
      "(4320, 48) (1440, 48)\n",
      "(4320, 7) (1440, 7)\n"
     ]
    }
   ],
   "source": [
    "# Split Train & Test Period\n",
    "\n",
    "train_index = num_train #144 # 120 days and 144 time index\n",
    "min_30_train, min_30_test = train_test_split(datasets_min_30, train_index)\n",
    "dow_train, dow_test = train_test_split(datasets_dow, train_index)\n",
    "\n",
    "print(min_30_train.shape, min_30_test.shape)\n",
    "print(dow_train.shape, dow_test.shape)"
   ]
  },
  {
   "cell_type": "markdown",
   "id": "08f4d9a9",
   "metadata": {},
   "source": [
    "# Save Final Data"
   ]
  },
  {
   "cell_type": "code",
   "execution_count": 21,
   "id": "8df9b5ea",
   "metadata": {},
   "outputs": [],
   "source": [
    "def save_data_stamp(STAMP, LAG, STEP):\n",
    "    # train \n",
    "    x_train, y_train = sampler_stamp(train_dataset, stamp=STAMP, lag=LAG, step=1, temp=False)    \n",
    "    min_30_train_y = sampler_stamp(min_30_train, stamp=STAMP, lag=LAG, step=1, temp=True)\n",
    "    dow_train_y = sampler_stamp(dow_train, stamp=STAMP, lag=LAG, step=1, temp=True)\n",
    "    temporal_train = np.concatenate((dow_train_y, min_30_train_y), axis=-1)\n",
    "    \n",
    "    np.savez(f'./data/x_train_stamp{STAMP}_lag{LAG}.npz', x_train)\n",
    "    np.savez(f'./data/y_train_stamp{STAMP}_lag{LAG}.npz', y_train)\n",
    "    np.savez(f'./data/temporal_train_stamp{STAMP}_lag{LAG}.npz', temporal_train)\n",
    "    \n",
    "    # test\n",
    "    x_test, y_test = sampler_stamp(test_dataset, stamp=STAMP, lag=LAG, step=STEP, temp=False)\n",
    "    min_30_test_y = sampler_stamp(min_30_test, stamp=STAMP, lag=LAG, step=STEP, temp=True)\n",
    "    dow_test_y = sampler_stamp(dow_test, stamp=STAMP, lag=LAG, step=STEP, temp=True)\n",
    "    temporal_test = np.concatenate((dow_test_y, min_30_test_y), axis=-1)\n",
    "\n",
    "    np.savez(f'./data/x_test_stamp{STAMP}_lag{LAG}_step{STEP}.npz', x_test)\n",
    "    np.savez(f'./data/y_test_stamp{STAMP}_lag{LAG}_step{STEP}.npz', y_test)\n",
    "    np.savez(f'./data/temporal_test_stamp{STAMP}_lag{LAG}_step{STEP}.npz', temporal_test)"
   ]
  },
  {
   "cell_type": "markdown",
   "id": "8b4978ee",
   "metadata": {},
   "source": [
    "## time stamp = 1 (0.5H)"
   ]
  },
  {
   "cell_type": "code",
   "execution_count": 22,
   "id": "d2b84f57",
   "metadata": {},
   "outputs": [
    {
     "name": "stdout",
     "output_type": "stream",
     "text": [
      "Sampler Return (4309, 10, 20, 10) (4309, 10, 20, 1)\n",
      "Sampler Return (0,) (4309, 1, 48)\n",
      "Sampler Return (0,) (4309, 1, 7)\n",
      "Sampler Return (1429, 10, 20, 10) (1429, 10, 20, 1)\n",
      "Sampler Return (0,) (1429, 1, 48)\n",
      "Sampler Return (0,) (1429, 1, 7)\n"
     ]
    }
   ],
   "source": [
    "# single-step data\n",
    "save_data_stamp(STAMP=1, LAG=10, STEP=1)"
   ]
  },
  {
   "cell_type": "code",
   "execution_count": 23,
   "id": "f9ef0669",
   "metadata": {},
   "outputs": [],
   "source": [
    "# # single-step data\n",
    "# for i in range(2,22,2):\n",
    "#     save_data_stamp(STAMP=1, LAG=i, STEP=1)"
   ]
  },
  {
   "cell_type": "code",
   "execution_count": 24,
   "id": "34ff178f",
   "metadata": {},
   "outputs": [
    {
     "name": "stdout",
     "output_type": "stream",
     "text": [
      "Sampler Return (4309, 10, 20, 10) (4309, 10, 20, 1)\n",
      "Sampler Return (0,) (4309, 1, 48)\n",
      "Sampler Return (0,) (4309, 1, 7)\n",
      "Sampler Return (1382, 10, 20, 10) (1382, 10, 20, 48)\n",
      "Sampler Return (0,) (1382, 48, 48)\n",
      "Sampler Return (0,) (1382, 48, 7)\n"
     ]
    }
   ],
   "source": [
    "# multi-step data\n",
    "save_data_stamp(STAMP=1, LAG=10, STEP=48)"
   ]
  },
  {
   "cell_type": "code",
   "execution_count": 25,
   "id": "a724dd96",
   "metadata": {},
   "outputs": [],
   "source": [
    "# # multi-step data\n",
    "# for i in range(2,22,2):\n",
    "#     save_data_stamp(STAMP=1, LAG=i, STEP=48)"
   ]
  },
  {
   "cell_type": "markdown",
   "id": "f9dcb43c",
   "metadata": {},
   "source": [
    "## time stamp = 2 (1H)"
   ]
  },
  {
   "cell_type": "code",
   "execution_count": 26,
   "id": "5f95b190",
   "metadata": {
    "scrolled": true
   },
   "outputs": [
    {
     "name": "stdout",
     "output_type": "stream",
     "text": [
      "Sampler Return (4315, 10, 20, 2) (4315, 10, 20, 1)\n",
      "Sampler Return (0,) (4315, 1, 48)\n",
      "Sampler Return (0,) (4315, 1, 7)\n",
      "Sampler Return (1412, 10, 20, 2) (1412, 10, 20, 24)\n",
      "Sampler Return (0,) (1412, 24, 48)\n",
      "Sampler Return (0,) (1412, 24, 7)\n",
      "Sampler Return (4311, 10, 20, 4) (4311, 10, 20, 1)\n",
      "Sampler Return (0,) (4311, 1, 48)\n",
      "Sampler Return (0,) (4311, 1, 7)\n",
      "Sampler Return (1408, 10, 20, 4) (1408, 10, 20, 24)\n",
      "Sampler Return (0,) (1408, 24, 48)\n",
      "Sampler Return (0,) (1408, 24, 7)\n",
      "Sampler Return (4307, 10, 20, 6) (4307, 10, 20, 1)\n",
      "Sampler Return (0,) (4307, 1, 48)\n",
      "Sampler Return (0,) (4307, 1, 7)\n",
      "Sampler Return (1404, 10, 20, 6) (1404, 10, 20, 24)\n",
      "Sampler Return (0,) (1404, 24, 48)\n",
      "Sampler Return (0,) (1404, 24, 7)\n",
      "Sampler Return (4303, 10, 20, 8) (4303, 10, 20, 1)\n",
      "Sampler Return (0,) (4303, 1, 48)\n",
      "Sampler Return (0,) (4303, 1, 7)\n",
      "Sampler Return (1400, 10, 20, 8) (1400, 10, 20, 24)\n",
      "Sampler Return (0,) (1400, 24, 48)\n",
      "Sampler Return (0,) (1400, 24, 7)\n",
      "Sampler Return (4299, 10, 20, 10) (4299, 10, 20, 1)\n",
      "Sampler Return (0,) (4299, 1, 48)\n",
      "Sampler Return (0,) (4299, 1, 7)\n",
      "Sampler Return (1396, 10, 20, 10) (1396, 10, 20, 24)\n",
      "Sampler Return (0,) (1396, 24, 48)\n",
      "Sampler Return (0,) (1396, 24, 7)\n",
      "Sampler Return (4295, 10, 20, 12) (4295, 10, 20, 1)\n",
      "Sampler Return (0,) (4295, 1, 48)\n",
      "Sampler Return (0,) (4295, 1, 7)\n",
      "Sampler Return (1392, 10, 20, 12) (1392, 10, 20, 24)\n",
      "Sampler Return (0,) (1392, 24, 48)\n",
      "Sampler Return (0,) (1392, 24, 7)\n",
      "Sampler Return (4291, 10, 20, 14) (4291, 10, 20, 1)\n",
      "Sampler Return (0,) (4291, 1, 48)\n",
      "Sampler Return (0,) (4291, 1, 7)\n",
      "Sampler Return (1388, 10, 20, 14) (1388, 10, 20, 24)\n",
      "Sampler Return (0,) (1388, 24, 48)\n",
      "Sampler Return (0,) (1388, 24, 7)\n",
      "Sampler Return (4287, 10, 20, 16) (4287, 10, 20, 1)\n",
      "Sampler Return (0,) (4287, 1, 48)\n",
      "Sampler Return (0,) (4287, 1, 7)\n",
      "Sampler Return (1384, 10, 20, 16) (1384, 10, 20, 24)\n",
      "Sampler Return (0,) (1384, 24, 48)\n",
      "Sampler Return (0,) (1384, 24, 7)\n",
      "Sampler Return (4283, 10, 20, 18) (4283, 10, 20, 1)\n",
      "Sampler Return (0,) (4283, 1, 48)\n",
      "Sampler Return (0,) (4283, 1, 7)\n",
      "Sampler Return (1380, 10, 20, 18) (1380, 10, 20, 24)\n",
      "Sampler Return (0,) (1380, 24, 48)\n",
      "Sampler Return (0,) (1380, 24, 7)\n",
      "Sampler Return (4279, 10, 20, 20) (4279, 10, 20, 1)\n",
      "Sampler Return (0,) (4279, 1, 48)\n",
      "Sampler Return (0,) (4279, 1, 7)\n",
      "Sampler Return (1376, 10, 20, 20) (1376, 10, 20, 24)\n",
      "Sampler Return (0,) (1376, 24, 48)\n",
      "Sampler Return (0,) (1376, 24, 7)\n"
     ]
    }
   ],
   "source": [
    "# multi-step data\n",
    "for i in range(2,22,2):\n",
    "    save_data_stamp(STAMP=2, LAG=i, STEP=24)"
   ]
  },
  {
   "cell_type": "code",
   "execution_count": null,
   "id": "dfed4d2d",
   "metadata": {},
   "outputs": [],
   "source": []
  },
  {
   "cell_type": "markdown",
   "id": "af007a94",
   "metadata": {},
   "source": [
    "## time stamp = 48 (24H)"
   ]
  },
  {
   "cell_type": "code",
   "execution_count": 17,
   "id": "25707c89",
   "metadata": {},
   "outputs": [
    {
     "name": "stdout",
     "output_type": "stream",
     "text": [
      "Sampler Return (4315, 10, 20, 4) (4315, 10, 20, 1)\n",
      "Sampler Return (0,) (4315, 1, 48)\n",
      "Sampler Return (0,) (4315, 1, 7)\n",
      "Sampler Return (1388, 10, 20, 4) (1388, 10, 20, 48)\n",
      "Sampler Return (0,) (1388, 48, 48)\n",
      "Sampler Return (0,) (1388, 48, 7)\n"
     ]
    }
   ],
   "source": [
    "save_data_stamp(STAMP=48, LAG=10, STEP=1)"
   ]
  },
  {
   "cell_type": "code",
   "execution_count": 18,
   "id": "647ed125",
   "metadata": {
    "scrolled": false
   },
   "outputs": [
    {
     "name": "stdout",
     "output_type": "stream",
     "text": [
      "Sampler Return (4223, 10, 20, 2) (4223, 10, 20, 1)\n",
      "Sampler Return (0,) (4223, 1, 48)\n",
      "Sampler Return (0,) (4223, 1, 7)\n",
      "Sampler Return (1343, 10, 20, 2) (1343, 10, 20, 1)\n",
      "Sampler Return (0,) (1343, 1, 48)\n",
      "Sampler Return (0,) (1343, 1, 7)\n"
     ]
    }
   ],
   "source": [
    "# for i in range(2,22,2):\n",
    "#     save_data_stamp(STAMP=48, LAG=i, STEP=1)"
   ]
  },
  {
   "cell_type": "code",
   "execution_count": null,
   "id": "b9d98791",
   "metadata": {},
   "outputs": [],
   "source": []
  }
 ],
 "metadata": {
  "kernelspec": {
   "display_name": "Python 3 (ipykernel)",
   "language": "python",
   "name": "python3"
  },
  "language_info": {
   "codemirror_mode": {
    "name": "ipython",
    "version": 3
   },
   "file_extension": ".py",
   "mimetype": "text/x-python",
   "name": "python",
   "nbconvert_exporter": "python",
   "pygments_lexer": "ipython3",
   "version": "3.8.5"
  }
 },
 "nbformat": 4,
 "nbformat_minor": 5
}
