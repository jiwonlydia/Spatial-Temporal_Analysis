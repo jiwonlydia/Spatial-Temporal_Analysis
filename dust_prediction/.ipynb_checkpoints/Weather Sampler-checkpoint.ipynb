{
 "cells": [
  {
   "cell_type": "code",
   "execution_count": 1,
   "metadata": {
    "id": "A94Q1z9d-z_V"
   },
   "outputs": [],
   "source": [
    "import numpy as np\n",
    "import pandas as pd"
   ]
  },
  {
   "cell_type": "markdown",
   "metadata": {
    "id": "rl_pAOmV-z_b"
   },
   "source": [
    "## Load Dataset"
   ]
  },
  {
   "cell_type": "code",
   "execution_count": null,
   "metadata": {
    "id": "ZblrDCcM-z_c"
   },
   "outputs": [],
   "source": [
    "def load_npz(filename, col='volume'):\n",
    "    return np.load(filename)[col]"
   ]
  },
  {
   "cell_type": "code",
   "execution_count": null,
   "metadata": {
    "id": "Vd-Xa0nNiqP8"
   },
   "outputs": [],
   "source": [
    "def load_np_data(filename):\n",
    "    try:\n",
    "        data = np.load(filename)\n",
    "        print(\"[*] Success to load \", filename)\n",
    "        return data\n",
    "    except:\n",
    "        raise IOError(\"Fail to load data\", filename)"
   ]
  },
  {
   "cell_type": "code",
   "execution_count": null,
   "metadata": {
    "id": "H1uqI1lttb6c"
   },
   "outputs": [],
   "source": [
    "train_dataset = load_npz(filenames[1]) \n",
    "test_dataset = load_npz(filenames[0])"
   ]
  },
  {
   "cell_type": "code",
   "execution_count": null,
   "metadata": {
    "colab": {
     "base_uri": "https://localhost:8080/"
    },
    "id": "LuamE49itgb7",
    "outputId": "ba86abc1-557e-466b-a872-746008534c13"
   },
   "outputs": [
    {
     "data": {
      "text/plain": [
       "(960, 10, 20, 2)"
      ]
     },
     "execution_count": 18,
     "metadata": {},
     "output_type": "execute_result"
    }
   ],
   "source": [
    "test_dataset.shape"
   ]
  },
  {
   "cell_type": "code",
   "execution_count": null,
   "metadata": {
    "colab": {
     "base_uri": "https://localhost:8080/"
    },
    "id": "HVT-SrXetnvM",
    "outputId": "632f8490-c651-44c6-bfaf-9f6c360b279f"
   },
   "outputs": [
    {
     "data": {
      "text/plain": [
       "(1920, 10, 20, 2)"
      ]
     },
     "execution_count": 21,
     "metadata": {},
     "output_type": "execute_result"
    }
   ],
   "source": [
    "train_dataset.shape"
   ]
  },
  {
   "cell_type": "code",
   "execution_count": null,
   "metadata": {
    "id": "iSokKvEx-z_d"
   },
   "outputs": [],
   "source": [
    "full_dataset = np.concatenate([train_dataset,test_dataset])"
   ]
  },
  {
   "cell_type": "code",
   "execution_count": null,
   "metadata": {
    "colab": {
     "base_uri": "https://localhost:8080/"
    },
    "id": "1Levkm_zu8MZ",
    "outputId": "b416ed9f-d3a8-4a83-af54-a1e0e40738f0"
   },
   "outputs": [
    {
     "data": {
      "text/plain": [
       "(2880, 10, 20, 2)"
      ]
     },
     "execution_count": 24,
     "metadata": {},
     "output_type": "execute_result"
    }
   ],
   "source": [
    "full_dataset.shape"
   ]
  },
  {
   "cell_type": "code",
   "execution_count": null,
   "metadata": {
    "colab": {
     "base_uri": "https://localhost:8080/"
    },
    "id": "dXENPhNfATwl",
    "outputId": "04e6d0e4-cf80-4062-9b70-cc7f1a48e88e"
   },
   "outputs": [
    {
     "name": "stdout",
     "output_type": "stream",
     "text": [
      "Train shape:  (1920, 10, 20, 2) , Test shape:  (960, 10, 20, 2)\n"
     ]
    }
   ],
   "source": [
    "print(\"Train shape: \", np.shape(train_dataset), \", Test shape: \", np.shape(test_dataset))\n",
    "start_train, end_train = train_dataset[:,:,:,0], train_dataset[:,:,:,1]\n",
    "start_test, end_test = test_dataset[:,:,:,0], test_dataset[:,:,:,1]"
   ]
  },
  {
   "cell_type": "code",
   "execution_count": null,
   "metadata": {
    "id": "QvI0soBH-z_d"
   },
   "outputs": [],
   "source": [
    "#Setting Some Parameters \n",
    "num_train, num_test = np.shape(start_train)[0], np.shape(start_test)[0]\n",
    "num_row = num_train + num_test #1960+960\n",
    "\n",
    "# Holiday and Prev.Holiday List\n",
    "holiday_dict = {1:[1, 19], 2:[16]}\n",
    "prev_holiday_dict = {1:[18], 2:[15]}"
   ]
  },
  {
   "cell_type": "markdown",
   "metadata": {
    "id": "OtdscoE--z_e"
   },
   "source": [
    "## Make Temporal Information"
   ]
  },
  {
   "cell_type": "code",
   "execution_count": null,
   "metadata": {
    "id": "gHBrk_oO-z_f"
   },
   "outputs": [],
   "source": [
    "### Initialize numpy array of temporal information (one-hot encoding)\n",
    "datasets_min_30 = np.zeros([num_row, 48])\n",
    "datasets_dow = np.zeros([num_row, 7])\n",
    "datasets_holiday = np.zeros([num_row, 1])\n",
    "datasets_prev_holiday = np.zeros([num_row, 1])"
   ]
  },
  {
   "cell_type": "code",
   "execution_count": null,
   "metadata": {
    "id": "nW5-wZpU-z_f"
   },
   "outputs": [],
   "source": [
    "# 30 mins, and day-of-week index are calculated below\n",
    "for i in range(num_row):\n",
    "    idx_30 = int(int(i)%48)\n",
    "    idx_dow = int(int(i/48)%7)\n",
    "    datasets_min_30[i,idx_30] = 1\n",
    "    datasets_dow[i, idx_dow] = 1"
   ]
  },
  {
   "cell_type": "code",
   "execution_count": null,
   "metadata": {
    "colab": {
     "base_uri": "https://localhost:8080/",
     "height": 247
    },
    "id": "lEodcMwS-z_g",
    "outputId": "5dd410b1-1db8-44f6-a369-ace50d948981"
   },
   "outputs": [
    {
     "ename": "NameError",
     "evalue": "ignored",
     "output_type": "error",
     "traceback": [
      "\u001b[0;31m---------------------------------------------------------------------------\u001b[0m",
      "\u001b[0;31mNameError\u001b[0m                                 Traceback (most recent call last)",
      "\u001b[0;32m<ipython-input-38-1dc5355d57c3>\u001b[0m in \u001b[0;36m<module>\u001b[0;34m()\u001b[0m\n\u001b[1;32m      2\u001b[0m \u001b[0mprev_month_dict\u001b[0m\u001b[0;34m=\u001b[0m\u001b[0;34m{\u001b[0m\u001b[0;36m1\u001b[0m\u001b[0;34m:\u001b[0m\u001b[0;36m0\u001b[0m\u001b[0;34m,\u001b[0m \u001b[0;36m2\u001b[0m\u001b[0;34m:\u001b[0m\u001b[0;36m31\u001b[0m\u001b[0;34m,\u001b[0m \u001b[0;36m3\u001b[0m\u001b[0;34m:\u001b[0m\u001b[0;36m59\u001b[0m\u001b[0;34m,\u001b[0m \u001b[0;36m4\u001b[0m\u001b[0;34m:\u001b[0m\u001b[0;36m90\u001b[0m\u001b[0;34m,\u001b[0m \u001b[0;36m5\u001b[0m\u001b[0;34m:\u001b[0m\u001b[0;36m120\u001b[0m\u001b[0;34m,\u001b[0m \u001b[0;36m6\u001b[0m\u001b[0;34m:\u001b[0m\u001b[0;36m151\u001b[0m\u001b[0;34m}\u001b[0m\u001b[0;34m\u001b[0m\u001b[0;34m\u001b[0m\u001b[0m\n\u001b[1;32m      3\u001b[0m \u001b[0mholiday_list\u001b[0m\u001b[0;34m,\u001b[0m \u001b[0mprev_holiday_list\u001b[0m \u001b[0;34m=\u001b[0m \u001b[0;34m[\u001b[0m\u001b[0;34m]\u001b[0m\u001b[0;34m,\u001b[0m \u001b[0;34m[\u001b[0m\u001b[0;34m]\u001b[0m\u001b[0;34m\u001b[0m\u001b[0;34m\u001b[0m\u001b[0m\n\u001b[0;32m----> 4\u001b[0;31m \u001b[0;32mfor\u001b[0m \u001b[0mkey\u001b[0m \u001b[0;32min\u001b[0m \u001b[0mholiday_dict\u001b[0m\u001b[0;34m.\u001b[0m\u001b[0mkeys\u001b[0m\u001b[0;34m(\u001b[0m\u001b[0;34m)\u001b[0m\u001b[0;34m:\u001b[0m\u001b[0;34m\u001b[0m\u001b[0;34m\u001b[0m\u001b[0m\n\u001b[0m\u001b[1;32m      5\u001b[0m     \u001b[0;32mfor\u001b[0m \u001b[0mvalue\u001b[0m \u001b[0;32min\u001b[0m \u001b[0mholiday_dict\u001b[0m\u001b[0;34m[\u001b[0m\u001b[0mkey\u001b[0m\u001b[0;34m]\u001b[0m\u001b[0;34m:\u001b[0m\u001b[0;34m\u001b[0m\u001b[0;34m\u001b[0m\u001b[0m\n\u001b[1;32m      6\u001b[0m         \u001b[0mholiday_list\u001b[0m\u001b[0;34m.\u001b[0m\u001b[0mextend\u001b[0m\u001b[0;34m(\u001b[0m\u001b[0;34m[\u001b[0m\u001b[0mprev_month_dict\u001b[0m\u001b[0;34m[\u001b[0m\u001b[0mkey\u001b[0m\u001b[0;34m]\u001b[0m\u001b[0;34m+\u001b[0m\u001b[0mvalue\u001b[0m\u001b[0;34m]\u001b[0m\u001b[0;34m)\u001b[0m\u001b[0;34m\u001b[0m\u001b[0;34m\u001b[0m\u001b[0m\n",
      "\u001b[0;31mNameError\u001b[0m: name 'holiday_dict' is not defined"
     ]
    }
   ],
   "source": [
    "# Calculate the number of day after 1-1 (on Holiday)\n",
    "prev_month_dict={1:0, 2:31, 3:59, 4:90, 5:120, 6:151}\n",
    "holiday_list, prev_holiday_list = [], []\n",
    "for key in holiday_dict.keys():\n",
    "    for value in holiday_dict[key]:\n",
    "        holiday_list.extend([prev_month_dict[key]+value])\n",
    "    for value in prev_holiday_dict[key]:\n",
    "        prev_holiday_list.extend([prev_month_dict[key]+value])\n",
    "print(\"Day of Holiday 0101 ~: \", holiday_list)\n",
    "print(\"Day of Prev.Holiday (2015/01/01 ~): \", prev_holiday_list)"
   ]
  },
  {
   "cell_type": "code",
   "execution_count": null,
   "metadata": {
    "colab": {
     "base_uri": "https://localhost:8080/"
    },
    "id": "Lw3yvcez-z_g",
    "outputId": "98c5b998-f8c9-4029-a73a-ae54d6e6c559"
   },
   "outputs": [
    {
     "name": "stdout",
     "output_type": "stream",
     "text": [
      "Day of Holiday (01/01 ~):  []\n",
      "Day of Prev.Holiday (01/01 ~):  []\n"
     ]
    }
   ],
   "source": [
    "# For convicience, we substitute 1, to indicate index\n",
    "holiday_list = [value -1 for value in holiday_list]\n",
    "prev_holiday_list = [value -1 for value in prev_holiday_list]\n",
    "print(\"Day of Holiday (01/01 ~): \", holiday_list)\n",
    "print(\"Day of Prev.Holiday (01/01 ~): \", prev_holiday_list)"
   ]
  },
  {
   "cell_type": "code",
   "execution_count": null,
   "metadata": {
    "id": "WZhIbimT-z_h"
   },
   "outputs": [],
   "source": [
    "for i in range(num_row):\n",
    "    is_holiday = int(i/48) in holiday_list\n",
    "    is_prev_holiday = int(i/48) in prev_holiday_list\n",
    "    if is_holiday:\n",
    "        datasets_holiday[i,0] = 1\n",
    "    if is_prev_holiday:\n",
    "        datasets_prev_holiday[i,0] = 1"
   ]
  },
  {
   "cell_type": "code",
   "execution_count": null,
   "metadata": {
    "id": "XzYYo5RL-z_h"
   },
   "outputs": [],
   "source": [
    "np.savez('./NYC_dataset/NYC_min_30_dataset.npz', datasets_min_30)\n",
    "np.savez('./NYC_dataset/NYC_day_of_week_dataset.npz', datasets_dow)\n",
    "np.savez('./NYC_dataset/NYC_holiday_dataset.npz', datasets_holiday)\n",
    "np.savez('./NYC_dataset/NYC_prev_holiday_dataset.npz', datasets_prev_holiday)"
   ]
  },
  {
   "cell_type": "code",
   "execution_count": null,
   "metadata": {
    "id": "KdndrDpL-z_h"
   },
   "outputs": [],
   "source": [
    "#dataset_min_10 = load_npz('kakao_min_10_dataset.npz')\n",
    "dataset_min_30 = load_npz('./NYC_dataset/NYC_min_30_dataset.npz', 'arr_0')\n",
    "dataset_dow = load_npz('./NYC_dataset/NYC_day_of_week_dataset.npz', 'arr_0')\n",
    "dataset_holiay = load_npz('./NYC_dataset/NYC_holiday_dataset.npz', 'arr_0')\n",
    "dataset_prev_holiday = load_npz('./NYC_dataset/NYC_prev_holiday_dataset.npz', 'arr_0')"
   ]
  },
  {
   "cell_type": "code",
   "execution_count": null,
   "metadata": {
    "colab": {
     "base_uri": "https://localhost:8080/"
    },
    "id": "vQhLNPF1-z_i",
    "outputId": "0a0ede97-c904-4f6e-b420-604e72599ad3"
   },
   "outputs": [
    {
     "name": "stdout",
     "output_type": "stream",
     "text": [
      "(2880, 48) (2880, 7) (2880, 1) (2880, 1)\n"
     ]
    }
   ],
   "source": [
    "print(np.shape(dataset_min_30), np.shape(dataset_dow), np.shape(dataset_holiay), np.shape(dataset_prev_holiday))"
   ]
  },
  {
   "cell_type": "code",
   "execution_count": null,
   "metadata": {
    "id": "SIDEMt5N-z_i"
   },
   "outputs": [],
   "source": [
    "def train_test_split(data, idx):\n",
    "    return data[:idx], data[idx:]"
   ]
  },
  {
   "cell_type": "markdown",
   "metadata": {
    "id": "SRhaLACu-z_i"
   },
   "source": [
    "## Split Train&Test Period"
   ]
  },
  {
   "cell_type": "code",
   "execution_count": null,
   "metadata": {
    "id": "2DGTormw-z_i"
   },
   "outputs": [],
   "source": [
    "train_index = num_train #144 # 120 days and 144 time index\n",
    "min_30_train, min_30_test=train_test_split(dataset_min_30, train_index)\n",
    "dow_train, dow_test=train_test_split(dataset_dow, train_index)\n",
    "holiday_train, holiday_test=train_test_split(dataset_holiay, train_index)\n",
    "prev_holiday_train, prev_holiday_test=train_test_split(dataset_prev_holiday, train_index)"
   ]
  },
  {
   "cell_type": "markdown",
   "metadata": {
    "id": "2ryGMQTj-z_i"
   },
   "source": [
    "## Sampler"
   ]
  },
  {
   "cell_type": "code",
   "execution_count": null,
   "metadata": {
    "id": "gshBfRxF-z_j"
   },
   "outputs": [],
   "source": [
    "LAG = 8\n",
    "END_LAG = 16\n",
    "STEP = 1 #6\n",
    "BIAS = END_LAG - LAG"
   ]
  },
  {
   "cell_type": "code",
   "execution_count": null,
   "metadata": {
    "id": "GlCZy32D-z_j"
   },
   "outputs": [],
   "source": [
    "def sampler(data, lag=8, bias=0, step=1, temp=False):\n",
    "    \"\"\"This function makes samples of the time series data\n",
    "    args:\n",
    "    - data : (# of data, height, width)\n",
    "    - lag : the length of sampling\n",
    "    - step : (step)-ahead forecasting label\n",
    "    return: \n",
    "    - data_x (# of sample, height, width, lag)\n",
    "    - data_y (# of sample, height, width, 1)\n",
    "    \"\"\"\n",
    "    num_row = len(data)\n",
    "    data_x, data_y = [], []\n",
    "    for idx in range(num_row):\n",
    "        strat_idx = idx + bias\n",
    "        try:\n",
    "            y = np.array(data[strat_idx+lag+(step-1)])\n",
    "            data_y.append(y)\n",
    "            if not temp:\n",
    "                x = np.transpose(data[strat_idx:strat_idx+lag], [1,2,0])\n",
    "                data_x.append(x)\n",
    "        except:\n",
    "            if len(np.shape(data_y)) <4 and not temp:\n",
    "                data_y = np.expand_dims(data_y, axis=-1)\n",
    "            print(\"Sampler Return\", np.shape(data_x), np.shape(data_y))\n",
    "            break\n",
    "            \n",
    "    if not temp:\n",
    "        return np.array(data_x), np.array(data_y)\n",
    "    else:\n",
    "        return np.array(data_y)"
   ]
  },
  {
   "cell_type": "code",
   "execution_count": null,
   "metadata": {
    "colab": {
     "base_uri": "https://localhost:8080/",
     "height": 229
    },
    "id": "wV8COtoW-z_j",
    "outputId": "de13c61c-e533-4ff6-b902-cce3e139729f"
   },
   "outputs": [
    {
     "ename": "NameError",
     "evalue": "ignored",
     "output_type": "error",
     "traceback": [
      "\u001b[0;31m---------------------------------------------------------------------------\u001b[0m",
      "\u001b[0;31mNameError\u001b[0m                                 Traceback (most recent call last)",
      "\u001b[0;32m<ipython-input-49-c7f258700e09>\u001b[0m in \u001b[0;36m<module>\u001b[0;34m()\u001b[0m\n\u001b[0;32m----> 1\u001b[0;31m \u001b[0mstart_train_x\u001b[0m\u001b[0;34m,\u001b[0m \u001b[0mstart_train_y\u001b[0m \u001b[0;34m=\u001b[0m \u001b[0msampler\u001b[0m\u001b[0;34m(\u001b[0m\u001b[0mstart_train\u001b[0m\u001b[0;34m,\u001b[0m \u001b[0mlag\u001b[0m\u001b[0;34m=\u001b[0m\u001b[0mLAG\u001b[0m\u001b[0;34m,\u001b[0m \u001b[0mbias\u001b[0m\u001b[0;34m=\u001b[0m\u001b[0mBIAS\u001b[0m\u001b[0;34m,\u001b[0m \u001b[0mstep\u001b[0m\u001b[0;34m=\u001b[0m\u001b[0mSTEP\u001b[0m\u001b[0;34m)\u001b[0m\u001b[0;34m\u001b[0m\u001b[0;34m\u001b[0m\u001b[0m\n\u001b[0m\u001b[1;32m      2\u001b[0m \u001b[0mstart_test_x\u001b[0m\u001b[0;34m,\u001b[0m \u001b[0mstart_test_y\u001b[0m \u001b[0;34m=\u001b[0m \u001b[0msampler\u001b[0m\u001b[0;34m(\u001b[0m\u001b[0mstart_test\u001b[0m\u001b[0;34m,\u001b[0m \u001b[0mlag\u001b[0m\u001b[0;34m=\u001b[0m\u001b[0mLAG\u001b[0m\u001b[0;34m,\u001b[0m \u001b[0mbias\u001b[0m\u001b[0;34m=\u001b[0m\u001b[0mBIAS\u001b[0m\u001b[0;34m,\u001b[0m \u001b[0mstep\u001b[0m\u001b[0;34m=\u001b[0m\u001b[0mSTEP\u001b[0m\u001b[0;34m)\u001b[0m\u001b[0;34m\u001b[0m\u001b[0;34m\u001b[0m\u001b[0m\n\u001b[1;32m      3\u001b[0m \u001b[0mend_train_x\u001b[0m\u001b[0;34m,\u001b[0m \u001b[0mend_train_y\u001b[0m \u001b[0;34m=\u001b[0m \u001b[0msampler\u001b[0m\u001b[0;34m(\u001b[0m\u001b[0mend_train\u001b[0m\u001b[0;34m,\u001b[0m \u001b[0mlag\u001b[0m\u001b[0;34m=\u001b[0m\u001b[0mEND_LAG\u001b[0m\u001b[0;34m,\u001b[0m \u001b[0mstep\u001b[0m\u001b[0;34m=\u001b[0m\u001b[0mSTEP\u001b[0m\u001b[0;34m)\u001b[0m\u001b[0;34m\u001b[0m\u001b[0;34m\u001b[0m\u001b[0m\n\u001b[1;32m      4\u001b[0m \u001b[0mend_test_x\u001b[0m\u001b[0;34m,\u001b[0m \u001b[0mend_test_y\u001b[0m \u001b[0;34m=\u001b[0m \u001b[0msampler\u001b[0m\u001b[0;34m(\u001b[0m\u001b[0mend_test\u001b[0m\u001b[0;34m,\u001b[0m \u001b[0mlag\u001b[0m\u001b[0;34m=\u001b[0m\u001b[0mEND_LAG\u001b[0m\u001b[0;34m,\u001b[0m \u001b[0mstep\u001b[0m\u001b[0;34m=\u001b[0m\u001b[0mSTEP\u001b[0m\u001b[0;34m)\u001b[0m\u001b[0;34m\u001b[0m\u001b[0;34m\u001b[0m\u001b[0m\n",
      "\u001b[0;31mNameError\u001b[0m: name 'start_train' is not defined"
     ]
    }
   ],
   "source": [
    "start_train_x, start_train_y = sampler(start_train, lag=LAG, bias=BIAS, step=STEP)\n",
    "start_test_x, start_test_y = sampler(start_test, lag=LAG, bias=BIAS, step=STEP)\n",
    "end_train_x, end_train_y = sampler(end_train, lag=END_LAG, step=STEP)\n",
    "end_test_x, end_test_y = sampler(end_test, lag=END_LAG, step=STEP)"
   ]
  },
  {
   "cell_type": "code",
   "execution_count": null,
   "metadata": {
    "id": "1X9pkC97-z_j"
   },
   "outputs": [],
   "source": [
    "assert np.shape(start_train_y)[0] == np.shape(end_train_y)[0]"
   ]
  },
  {
   "cell_type": "code",
   "execution_count": null,
   "metadata": {
    "colab": {
     "base_uri": "https://localhost:8080/"
    },
    "id": "jFv-iY24-z_k",
    "outputId": "3884645e-4743-4274-aa54-1b52ec4d6c64"
   },
   "outputs": [
    {
     "name": "stdout",
     "output_type": "stream",
     "text": [
      "Sampler Return (0,) (1904, 48)\n",
      "Sampler Return (0,) (944, 48)\n",
      "Sampler Return (0,) (1904, 7)\n",
      "Sampler Return (0,) (944, 7)\n",
      "Sampler Return (0,) (1904, 1)\n",
      "Sampler Return (0,) (944, 1)\n",
      "Sampler Return (0,) (1904, 1)\n",
      "Sampler Return (0,) (944, 1)\n"
     ]
    }
   ],
   "source": [
    "'''\n",
    "min_10_train_y = sampler(min_10_train, lag=LAG, step=STEP, temp=True)\n",
    "min_10_test_y = sampler(min_10_test, lag=LAG, step=STEP, temp=True)\n",
    "'''\n",
    "min_30_train_y = sampler(min_30_train, lag=END_LAG, step=STEP, temp=True)\n",
    "min_30_test_y = sampler(min_30_test, lag=END_LAG, step=STEP, temp=True)\n",
    "\n",
    "dow_train_y = sampler(dow_train, lag=END_LAG, step=STEP, temp=True)\n",
    "dow_test_y = sampler(dow_test, lag=END_LAG, step=STEP, temp=True)\n",
    "\n",
    "holiday_train_y = sampler(holiday_train, lag=END_LAG, step=STEP, temp=True)\n",
    "holiday_test_y = sampler(holiday_test, lag=END_LAG, step=STEP, temp=True)\n",
    "\n",
    "prev_holiday_train_y = sampler(prev_holiday_train, lag=END_LAG, step=STEP, temp=True)\n",
    "prev_holiday_test_y = sampler(prev_holiday_test, lag=END_LAG, step=STEP, temp=True)"
   ]
  },
  {
   "cell_type": "code",
   "execution_count": null,
   "metadata": {
    "colab": {
     "base_uri": "https://localhost:8080/"
    },
    "id": "zLHWIrKE-z_k",
    "outputId": "0752798d-ce44-4208-8617-c5b58b210c8c"
   },
   "outputs": [
    {
     "name": "stdout",
     "output_type": "stream",
     "text": [
      "(1904, 57) (944, 57)\n"
     ]
    }
   ],
   "source": [
    "temporal_train = np.concatenate((dow_train_y, min_30_train_y, prev_holiday_train_y, holiday_train_y), axis=-1)\n",
    "temporal_test = np.concatenate((dow_test_y, min_30_test_y, prev_holiday_test_y, holiday_test_y), axis=-1)\n",
    "print(np.shape(temporal_train), np.shape(temporal_test))"
   ]
  },
  {
   "cell_type": "markdown",
   "metadata": {
    "id": "DhJO8PTZ-z_k"
   },
   "source": [
    "# Important Remark\n",
    "For fair comparision with STDN setting, we only use 477 number of test dataset."
   ]
  },
  {
   "cell_type": "code",
   "execution_count": null,
   "metadata": {
    "id": "4YPO9Dda-z_k"
   },
   "outputs": [],
   "source": [
    "%mkdir NYC_taxi_dataset"
   ]
  },
  {
   "cell_type": "code",
   "execution_count": null,
   "metadata": {
    "id": "ZlOhFDKV-z_k"
   },
   "outputs": [],
   "source": [
    "np.savez('./NYC_taxi_dataset/x_st_train.npz', start_train_x)\n",
    "np.savez('./NYC_taxi_dataset/x_st_test.npz', start_test_x)\n",
    "np.savez('./NYC_taxi_dataset/x_end_train.npz', end_train_x)\n",
    "np.savez('./NYC_taxi_dataset/x_end_test.npz', end_test_x)\n",
    "np.savez('./NYC_taxi_dataset/y_st_train.npz', start_train_y)\n",
    "np.savez('./NYC_taxi_dataset/y_st_test.npz', start_test_y)\n",
    "np.savez('./NYC_taxi_dataset/temporal_train.npz', temporal_train)\n",
    "np.savez('./NYC_taxi_dataset/temporal_test.npz', temporal_test)"
   ]
  },
  {
   "cell_type": "markdown",
   "metadata": {
    "id": "ljrG2AEp-z_k"
   },
   "source": [
    "## Coordinate Information"
   ]
  },
  {
   "cell_type": "code",
   "execution_count": null,
   "metadata": {
    "id": "0URWDEvS-z_k"
   },
   "outputs": [],
   "source": [
    "train_num, h, w = np.shape(start_train_y)[:-1]\n",
    "test_num = np.shape(start_test_y)[0]"
   ]
  },
  {
   "cell_type": "code",
   "execution_count": null,
   "metadata": {
    "colab": {
     "base_uri": "https://localhost:8080/"
    },
    "id": "u-KtmKau-z_l",
    "outputId": "e17029c2-efeb-4d17-c2d4-1a8ef8f1cbc2"
   },
   "outputs": [
    {
     "name": "stdout",
     "output_type": "stream",
     "text": [
      "(2880, 10, 20, 2)\n"
     ]
    }
   ],
   "source": [
    "coord_y = np.expand_dims(np.array([[y]*w for y in range(h)]), axis=-1)\n",
    "coord_x = np.expand_dims(np.array([[x]*h for x in range(w)]), axis=-1)\n",
    "coord_x = np.transpose(coord_x, [1,0,2])\n",
    "coord_xy = np.concatenate([coord_y, coord_x], axis=-1)\n",
    "coord_xy = np.repeat(np.expand_dims(coord_xy, axis=0), repeats=num_row, axis=0)\n",
    "print(np.shape(coord_xy))"
   ]
  },
  {
   "cell_type": "code",
   "execution_count": null,
   "metadata": {
    "colab": {
     "base_uri": "https://localhost:8080/"
    },
    "id": "FXlRWIBswiSF",
    "outputId": "92db999d-d3d5-490c-b778-79b1468c0e91"
   },
   "outputs": [
    {
     "data": {
      "text/plain": [
       "1904"
      ]
     },
     "execution_count": 54,
     "metadata": {},
     "output_type": "execute_result"
    }
   ],
   "source": [
    "len(start_train_y)"
   ]
  },
  {
   "cell_type": "code",
   "execution_count": null,
   "metadata": {
    "colab": {
     "base_uri": "https://localhost:8080/"
    },
    "id": "bw37jgIQ-z_l",
    "outputId": "8a80f9f8-9ec5-4270-c922-3cbaca4462ae"
   },
   "outputs": [
    {
     "name": "stdout",
     "output_type": "stream",
     "text": [
      "(1904, 10, 20, 2) (976, 10, 20, 2)\n"
     ]
    }
   ],
   "source": [
    "coord_train, coord_test = coord_xy[:len(start_train_y)], coord_xy[len(start_train_y):]\n",
    "print(np.shape(coord_train), np.shape(coord_test))\n",
    "np.savez('./NYC_taxi_dataset/coord_train.npz', coord_train)\n",
    "np.savez('./NYC_taxi_dataset/coord_test.npz', coord_test)"
   ]
  },
  {
   "cell_type": "code",
   "execution_count": null,
   "metadata": {
    "colab": {
     "base_uri": "https://localhost:8080/"
    },
    "id": "QWdCvQjq-z_l",
    "outputId": "10daebeb-bb96-4c40-e059-e3b4e0858f72"
   },
   "outputs": [
    {
     "data": {
      "text/plain": [
       "960"
      ]
     },
     "execution_count": 1,
     "metadata": {},
     "output_type": "execute_result"
    }
   ],
   "source": [
    "48*20"
   ]
  },
  {
   "cell_type": "code",
   "execution_count": null,
   "metadata": {
    "colab": {
     "base_uri": "https://localhost:8080/"
    },
    "id": "uURlUd_wWZAK",
    "outputId": "222252ab-ea85-42d0-db68-6c3f1ffadef6"
   },
   "outputs": [
    {
     "data": {
      "text/plain": [
       "944"
      ]
     },
     "execution_count": 2,
     "metadata": {},
     "output_type": "execute_result"
    }
   ],
   "source": [
    "960-16"
   ]
  },
  {
   "cell_type": "code",
   "execution_count": null,
   "metadata": {
    "id": "-efgQWySWePi"
   },
   "outputs": [],
   "source": []
  }
 ],
 "metadata": {
  "colab": {
   "collapsed_sections": [
    "SRhaLACu-z_i",
    "2ryGMQTj-z_i"
   ],
   "name": "Sampler.ipynb",
   "provenance": [],
   "toc_visible": true
  },
  "kernelspec": {
   "display_name": "Python 3 (ipykernel)",
   "language": "python",
   "name": "python3"
  },
  "language_info": {
   "codemirror_mode": {
    "name": "ipython",
    "version": 3
   },
   "file_extension": ".py",
   "mimetype": "text/x-python",
   "name": "python",
   "nbconvert_exporter": "python",
   "pygments_lexer": "ipython3",
   "version": "3.9.7"
  }
 },
 "nbformat": 4,
 "nbformat_minor": 1
}
